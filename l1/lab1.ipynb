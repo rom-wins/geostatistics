{
 "cells": [
  {
   "cell_type": "code",
   "execution_count": 78,
   "metadata": {},
   "outputs": [],
   "source": [
    "import numpy as np\n",
    "import pandas as pd"
   ]
  },
  {
   "cell_type": "code",
   "execution_count": 86,
   "metadata": {},
   "outputs": [],
   "source": [
    "columns = 8\n",
    "rows = 8\n",
    "base_array = np.array(\n",
    "    [\n",
    "        [735, np.nan, 45, np.nan, 125, np.nan, 167, np.nan],\n",
    "        [np.nan for i in range(columns)],\n",
    "        [450, np.nan, 337, np.nan, 95, np.nan, 245, np.nan],\n",
    "        [np.nan for i in range(columns)],\n",
    "        [124, np.nan, 430, np.nan, 230, np.nan, 460, np.nan],\n",
    "        [np.nan for i in range(columns)],\n",
    "        [75, np.nan, 20, np.nan, 32, np.nan, 20, np.nan],\n",
    "        [np.nan for i in range(columns)],\n",
    "    ]\n",
    ")"
   ]
  },
  {
   "cell_type": "code",
   "execution_count": 87,
   "metadata": {},
   "outputs": [],
   "source": [
    "mean_array = base_array.copy()\n",
    "for i in range(rows):\n",
    "    for j in range(columns):\n",
    "        if np.isnan(mean_array[i][j]):\n",
    "            if j > 0 and j + 1 < columns:\n",
    "                mean_array[i][j] = (mean_array[i][j - 1] + mean_array[i][j + 1]) / 2\n",
    "\n",
    "for i in range(rows):\n",
    "    for j in range(columns):\n",
    "        if np.isnan(mean_array[i][j]):\n",
    "            if i > 0 and i + 1 < rows:\n",
    "                mean_array[i][j] = (mean_array[i - 1][j] + mean_array[i + 1][j]) / 2"
   ]
  },
  {
   "cell_type": "code",
   "execution_count": 88,
   "metadata": {},
   "outputs": [],
   "source": [
    "last_col = columns - 1\n",
    "last_row = rows - 1\n",
    "eps = 3\n",
    "for i in range(rows):\n",
    "    if i < 1:\n",
    "        mean_array[i][last_col] = round((mean_array[i][last_col - 1] + mean_array[i + 1][last_col - 1]) / 2, eps)\n",
    "    elif i >= 1 and i < last_row - 1:\n",
    "        mean_array[i][last_col] = round((mean_array[i - 1][last_col - 1] + mean_array[i][last_col - 1] + mean_array[i + 1][last_col - 1]) / 3, eps)\n",
    "    elif i == last_row - 1:\n",
    "        mean_array[i][last_col] = round((mean_array[i - 1][last_col - 1] + mean_array[i][last_col - 1]) / 2, eps)\n",
    "\n",
    "for j in range(columns):\n",
    "    if j < 1:\n",
    "        mean_array[last_row][j] = round((mean_array[last_row - 1][j] + mean_array[last_row - 1][j + 1]) / 2, eps)\n",
    "    elif j >= 1 and j < last_col - 1:\n",
    "        mean_array[last_row][j] = round((mean_array[last_row - 1][j - 1] + mean_array[last_row - 1][j] + mean_array[last_row - 1][j + 1]) / 3, eps)\n",
    "    elif j == last_col - 1:\n",
    "        mean_array[last_row][j] = round((mean_array[last_row - 1][j - 1] + mean_array[last_row - 1][j]) / 2, eps)\n",
    "\n",
    "mean_array[last_row][last_col] = mean_array[last_row - 1][last_col - 1]"
   ]
  },
  {
   "cell_type": "code",
   "execution_count": 89,
   "metadata": {},
   "outputs": [
    {
     "data": {
      "text/plain": [
       "array([[735.   , 390.   ,  45.   ,  85.   , 125.   , 146.   , 167.   ,\n",
       "        186.5  ],\n",
       "       [592.5  , 391.75 , 191.   , 150.5  , 110.   , 158.   , 206.   ,\n",
       "        206.   ],\n",
       "       [450.   , 393.5  , 337.   , 216.   ,  95.   , 170.   , 245.   ,\n",
       "        267.833],\n",
       "       [287.   , 335.25 , 383.5  , 273.   , 162.5  , 257.5  , 352.5  ,\n",
       "        352.5  ],\n",
       "       [124.   , 277.   , 430.   , 330.   , 230.   , 345.   , 460.   ,\n",
       "        350.833],\n",
       "       [ 99.5  , 162.25 , 225.   , 178.   , 131.   , 185.5  , 240.   ,\n",
       "        240.   ],\n",
       "       [ 75.   ,  47.5  ,  20.   ,  26.   ,  32.   ,  26.   ,  20.   ,\n",
       "        130.   ],\n",
       "       [ 61.25 ,  47.5  ,  31.167,  26.   ,  28.   ,  26.   ,  23.   ,\n",
       "         20.   ]])"
      ]
     },
     "execution_count": 89,
     "metadata": {},
     "output_type": "execute_result"
    }
   ],
   "source": [
    "mean_array"
   ]
  },
  {
   "cell_type": "code",
   "execution_count": 90,
   "metadata": {},
   "outputs": [
    {
     "name": "stdout",
     "output_type": "stream",
     "text": [
      "735.0 390.0 45.0 85.0 125.0 146.0 167.0 186.5\n",
      "592.5 391.75 191.0 150.5 110.0 158.0 206.0 206.0\n",
      "450.0 393.5 337.0 216.0 95.0 170.0 245.0 267.833\n",
      "287.0 335.25 383.5 273.0 162.5 257.5 352.5 352.5\n",
      "124.0 277.0 430.0 330.0 230.0 345.0 460.0 350.833\n",
      "99.5 162.25 225.0 178.0 131.0 185.5 240.0 240.0\n",
      "75.0 47.5 20.0 26.0 32.0 26.0 20.0 130.0\n",
      "61.25 47.5 31.167 26.0 28.0 26.0 23.0 20.0\n"
     ]
    }
   ],
   "source": [
    "for i in mean_array:\n",
    "    print(' '.join([str(j) for j in i]))"
   ]
  },
  {
   "cell_type": "code",
   "execution_count": 91,
   "metadata": {},
   "outputs": [],
   "source": [
    "df = pd.DataFrame(data=mean_array)\n",
    "df.to_excel('result.xlsx')"
   ]
  },
  {
   "cell_type": "code",
   "execution_count": 94,
   "metadata": {},
   "outputs": [
    {
     "data": {
      "text/plain": [
       "array([[735.  , 390.  ,  45.  ,  85.  , 125.  , 146.  , 167.  ,    nan],\n",
       "       [592.5 , 391.75, 191.  , 150.5 , 110.  , 158.  , 206.  ,    nan],\n",
       "       [450.  , 393.5 , 337.  , 216.  ,  95.  , 170.  , 245.  ,    nan],\n",
       "       [287.  , 335.25, 383.5 , 273.  , 162.5 , 257.5 , 352.5 ,    nan],\n",
       "       [124.  , 277.  , 430.  , 330.  , 230.  , 345.  , 460.  ,    nan],\n",
       "       [ 99.5 , 162.25, 225.  , 178.  , 131.  , 185.5 , 240.  ,    nan],\n",
       "       [ 75.  ,  47.5 ,  20.  ,  26.  ,  32.  ,  26.  ,  20.  ,    nan],\n",
       "       [   nan,    nan,    nan,    nan,    nan,    nan,    nan,    nan]])"
      ]
     },
     "execution_count": 94,
     "metadata": {},
     "output_type": "execute_result"
    }
   ],
   "source": [
    "obr_array = mean_array.copy()\n",
    "obr_array[-1] = [np.nan for i in range(columns)]\n",
    "for i in range(rows):\n",
    "    obr_array[i][-1] = np.nan\n",
    "obr_array"
   ]
  },
  {
   "cell_type": "code",
   "execution_count": null,
   "metadata": {},
   "outputs": [],
   "source": [
    "# last_col\n",
    "# last_row"
   ]
  },
  {
   "cell_type": "code",
   "execution_count": 157,
   "metadata": {},
   "outputs": [],
   "source": [
    "def inv_dist_extr(array, row, col, radius):\n",
    "    sum_z = 0\n",
    "    sum_inv_dist = 0\n",
    "    # print(f'------{row}:{col}-------')\n",
    "    for i in range(rows - 1):\n",
    "        for j in range(columns - 1):\n",
    "            dist = (((row - i) ** 2) + ((col - j) ** 2)) ** 0.5\n",
    "            if dist <= radius:\n",
    "                # print(array[i][j], dist)\n",
    "                sum_inv_dist += 1 / dist\n",
    "                sum_z += obr_array[i][j] / dist\n",
    "    if sum_inv_dist == 0:\n",
    "        return 0\n",
    "    else:\n",
    "        return sum_z / sum_inv_dist"
   ]
  },
  {
   "cell_type": "code",
   "execution_count": 162,
   "metadata": {},
   "outputs": [
    {
     "data": {
      "text/plain": [
       "array([[735.  , 390.  ,  45.  ,  85.  , 125.  , 146.  , 167.  , 176.24],\n",
       "       [592.5 , 391.75, 191.  , 150.5 , 110.  , 158.  , 206.  , 202.92],\n",
       "       [450.  , 393.5 , 337.  , 216.  ,  95.  , 170.  , 245.  , 243.13],\n",
       "       [287.  , 335.25, 383.5 , 273.  , 162.5 , 257.5 , 352.5 , 275.99],\n",
       "       [124.  , 277.  , 430.  , 330.  , 230.  , 345.  , 460.  , 263.61],\n",
       "       [ 99.5 , 162.25, 225.  , 178.  , 131.  , 185.5 , 240.  , 228.7 ],\n",
       "       [ 75.  ,  47.5 ,  20.  ,  26.  ,  32.  ,  26.  ,  20.  , 164.72],\n",
       "       [ 95.22, 102.74, 106.09, 100.43,  96.77, 103.38, 120.18, 101.62]])"
      ]
     },
     "execution_count": 162,
     "metadata": {},
     "output_type": "execute_result"
    }
   ],
   "source": [
    "R = 3\n",
    "for row in range(rows):\n",
    "    obr_array[row][last_col] = round(inv_dist_extr(obr_array, row, last_col, R), 2)\n",
    "for col in range(columns):\n",
    "    obr_array[last_row][col] = round(inv_dist_extr(obr_array, last_row, col, R), 2)\n",
    "\n",
    "obr_array"
   ]
  },
  {
   "cell_type": "code",
   "execution_count": 159,
   "metadata": {},
   "outputs": [],
   "source": [
    "df = pd.DataFrame(data=obr_array)\n",
    "df.to_excel('result.xlsx')"
   ]
  },
  {
   "cell_type": "code",
   "execution_count": null,
   "metadata": {},
   "outputs": [],
   "source": []
  }
 ],
 "metadata": {
  "kernelspec": {
   "display_name": "mlcourse_ai",
   "language": "python",
   "name": "mlcourse_ai"
  },
  "language_info": {
   "codemirror_mode": {
    "name": "ipython",
    "version": 3
   },
   "file_extension": ".py",
   "mimetype": "text/x-python",
   "name": "python",
   "nbconvert_exporter": "python",
   "pygments_lexer": "ipython3",
   "version": "3.8.5"
  },
  "orig_nbformat": 4,
  "vscode": {
   "interpreter": {
    "hash": "f117bb99e711a8ba238a81fc13f60aeae493b3641159c9539d184b6526524d48"
   }
  }
 },
 "nbformat": 4,
 "nbformat_minor": 2
}
