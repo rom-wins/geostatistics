{
 "cells": [
  {
   "cell_type": "code",
   "execution_count": 3,
   "metadata": {},
   "outputs": [],
   "source": [
    "import matplotlib.pyplot as plt\n",
    "import pandas as pd\n",
    "import numpy as np\n",
    "import plotly\n",
    "import plotly.express as px"
   ]
  },
  {
   "cell_type": "code",
   "execution_count": 4,
   "metadata": {},
   "outputs": [],
   "source": [
    "LAG_SIZE = 61.4        # Размер лага\n",
    "COUNT_OF_LAGS = 15     # Количество лагов \n",
    "D_ANGLE = 25           # Допуск угла\n",
    "WIDTH_OF_STRIPE = 1000 # Ширина бина (полосы) \n",
    "MAX_DIST = 10000000"
   ]
  },
  {
   "cell_type": "code",
   "execution_count": 5,
   "metadata": {},
   "outputs": [],
   "source": [
    "def caclulate_length_by_two_points(point_1, point_2):\n",
    "    \"\"\"Вычисляет расстояние по двум точкам\"\"\"\n",
    "    x1 = point_1[0]\n",
    "    y1 = point_1[1]\n",
    "    \n",
    "    x2 = point_2[0]\n",
    "    y2 = point_2[1]\n",
    "    \n",
    "    length = np.sqrt(((x1 - x2) ** 2) + (y1 - y2) ** 2)\n",
    "    return length"
   ]
  },
  {
   "cell_type": "code",
   "execution_count": 6,
   "metadata": {},
   "outputs": [],
   "source": [
    "def inverse_geodesic_task(p1, p2):\n",
    "    \"\"\"Обратная геодезическая задача, по двум точкам определяет дирекционный угол\"\"\"\n",
    "    x1 = p1[0]\n",
    "    y1 = p1[1]\n",
    "    \n",
    "    x2 = p2[0]\n",
    "    y2 = p2[1]\n",
    "    \n",
    "    dy = y2 - y1\n",
    "    dx = x2 - x1\n",
    "    if dx == 0:\n",
    "        dx = 0.0000000000000000000001\n",
    "    rumb = abs(np.rad2deg(np.arctan(dy / dx)))\n",
    "    \n",
    "    if dy >= 0 and dx >= 0:\n",
    "        direction_angel = rumb\n",
    "    elif dy >= 0 and dx <= 0:\n",
    "        direction_angel = 180 - rumb\n",
    "    elif dy <= 0 and dx <= 0:\n",
    "        direction_angel = 180 + rumb\n",
    "    else:\n",
    "        direction_angel = 360 - rumb\n",
    "    return direction_angel"
   ]
  },
  {
   "cell_type": "code",
   "execution_count": 7,
   "metadata": {},
   "outputs": [],
   "source": [
    "def to_dir_angle(angle):\n",
    "    \"\"\" Конвертирует угол в дирекционный угол \"\"\"\n",
    "    if angle > 360:\n",
    "        return 360 - angle\n",
    "    elif angle < 0:\n",
    "        return angle + 360\n",
    "    else:\n",
    "        return angle"
   ]
  },
  {
   "cell_type": "code",
   "execution_count": 8,
   "metadata": {},
   "outputs": [],
   "source": [
    "def direct_geodesic_problem(p1, dist, angle):\n",
    "    \"\"\"Прямая геодизмческая задача. По точке, расстоянию и дирекционному углу вычисляет \\\n",
    "        координаты второй точки\"\"\"\n",
    "    dx = np.cos(np.deg2rad(angle)) * dist\n",
    "    dy = np.sin(np.deg2rad(angle)) * dist\n",
    "    return p1[0] + dx, p1[1] + dy"
   ]
  },
  {
   "cell_type": "code",
   "execution_count": 9,
   "metadata": {},
   "outputs": [],
   "source": [
    "def calculate_dist_to_line(p1, p2, p3):\n",
    "    \"\"\"Расстояние от точки p3 до прямой, заданной двумя точками (p1 и p2) \"\"\"\n",
    "    return abs((p2[1] - p1[1]) * p3[0] - (p2[0] - p1[0]) * p3[1] + p2[0] * p1[1] - p2[1] * p1[0]) / MAX_DIST"
   ]
  },
  {
   "cell_type": "code",
   "execution_count": 10,
   "metadata": {},
   "outputs": [],
   "source": [
    "def caluclate_one_bin(data, indx_of_point, angle):\n",
    "    \"\"\"\n",
    "    Рассчитывает одну полосу (бин) с заданным дирекционным углом (angle) в точке (indx_of_point)\n",
    "    Возвращает бин разбитый на лаги, в которых содержится кортеж (расстояние до точки, индекс точки в массиве data)\n",
    "    \"\"\"\n",
    "\n",
    "    bin = [[] for i in range(COUNT_OF_LAGS)]\n",
    "\n",
    "    p1 = (data.iloc[indx_of_point]['X'], data.iloc[indx_of_point]['Y'])\n",
    "    left_angle = to_dir_angle(angle - D_ANGLE)\n",
    "    right_angle = to_dir_angle(angle + D_ANGLE)\n",
    "\n",
    "    p2 = direct_geodesic_problem(p1, MAX_DIST, angle)\n",
    "\n",
    "    max_lenght_of_bin = COUNT_OF_LAGS * LAG_SIZE\n",
    "\n",
    "    for new_point_idx in data.index:\n",
    "        if new_point_idx != indx_of_point:\n",
    "            p_new = (data.iloc[new_point_idx]['X'], data.iloc[new_point_idx]['Y'])\n",
    "            dir_angle = inverse_geodesic_task(p1, p_new)\n",
    "            dist = caclulate_length_by_two_points(p1, p_new)\n",
    "\n",
    "            if dist > max_lenght_of_bin:\n",
    "                continue\n",
    "\n",
    "            if dir_angle > left_angle and dir_angle < right_angle:\n",
    "                if calculate_dist_to_line(p1, p2, p_new) <= WIDTH_OF_STRIPE / 2:\n",
    "                    bin[int(dist / LAG_SIZE)].append((dist, new_point_idx))\n",
    "    \n",
    "    return bin\n",
    "\n"
   ]
  },
  {
   "cell_type": "code",
   "execution_count": 37,
   "metadata": {},
   "outputs": [],
   "source": [
    "def calculate_variogram(data, angle, col):\n",
    "    \"\"\"\n",
    "     Вычисляет вариограмму по заданному дирекционному углу (angle) и целевой переменной (col) \n",
    "     Возврат: список средних расстояний в лагах, список значений вариограммы в лагах, список количества точек в лагах  \n",
    "    \"\"\"\n",
    "    all_lags = [[] for i in range(COUNT_OF_LAGS)]\n",
    "\n",
    "    for idx in data.index:\n",
    "        bin = caluclate_one_bin(data, idx, angle, col)\n",
    "        for lag_idx in range(len(bin)):\n",
    "            if len(bin[lag_idx]) > 0:\n",
    "                for point in bin[lag_idx]:\n",
    "                    all_lags[lag_idx].append([point, idx])\n",
    "\n",
    "    result_distances = []\n",
    "    result_values = []\n",
    "    result_counts = []\n",
    "    for lag in all_lags:\n",
    "        if len(lag) > 0:\n",
    "            sum_dist = 0\n",
    "            sum_std_z = 0\n",
    "            for item in lag:\n",
    "                sum_dist += item[0][0]\n",
    "                sum_std_z += (data.iloc[item[0][1]][col] - data.iloc[item[1]][col]) ** 2\n",
    "            result_distances.append(sum_dist / len(lag))\n",
    "            result_values.append(sum_std_z / (2 * len(lag)))\n",
    "            result_counts.append(len(lag))\n",
    "        else:\n",
    "            result_distances.append(None)\n",
    "            result_values.append(None)\n",
    "            result_counts.append(0)\n",
    "    return result_distances, result_values, result_counts\n"
   ]
  },
  {
   "cell_type": "code",
   "execution_count": 40,
   "metadata": {},
   "outputs": [],
   "source": [
    "# Направление для построения вариограммы\n",
    "dir_angle_diraction = 45 \n",
    "\n",
    "# ШАПКА СЛОБЦА В КОТОРОМ СОДЕРЖИТСЯ ЦЕЛЕВАЯ ПЕРЕМЕННАЯ\n",
    "column = 'M'\n",
    "\n",
    "data = pd.read_excel('lab2_data.xlsx')\n",
    "dists, values, counts = calculate_variogram(data, dir_angle_diraction, column)\n",
    "\n",
    "my_dict = {'dist': [], 'value': [], 'count': []}\n",
    "for i in range(len(dists)):\n",
    "    my_dict['dist'].append(dists[i])\n",
    "    my_dict['value'].append(values[i])\n",
    "    my_dict['count'].append(counts[i])\n",
    "result_df = pd.DataFrame(my_dict)\n",
    "result_df.to_excel(f'result_{column}.xlsx')"
   ]
  },
  {
   "cell_type": "code",
   "execution_count": 41,
   "metadata": {},
   "outputs": [
    {
     "data": {
      "application/vnd.plotly.v1+json": {
       "config": {
        "plotlyServerURL": "https://plot.ly"
       },
       "data": [
        {
         "hovertemplate": "dist=%{x}<br>value=%{y}<br>count=%{text}<extra></extra>",
         "legendgroup": "",
         "line": {
          "color": "#636efa",
          "dash": "solid"
         },
         "mode": "lines+markers+text",
         "name": "",
         "orientation": "v",
         "showlegend": false,
         "text": [
          0,
          2,
          3,
          4,
          3,
          3,
          8,
          10,
          8,
          10,
          9,
          15,
          10,
          5,
          15
         ],
         "textposition": "top right",
         "type": "scatter",
         "x": [
          null,
          103.93251127031454,
          169.9215959574374,
          226.99902350282082,
          274.10385250012934,
          337.37306985781737,
          397.0963019436009,
          456.09361608624477,
          518.1855486832193,
          577.055867885459,
          648.64360414004,
          707.9114115002619,
          775.4818286211869,
          825.2798684522917,
          890.2955718035213
         ],
         "xaxis": "x",
         "y": [
          null,
          1.2324999999999997,
          8.18833333333333,
          1.0125000000000002,
          11.893333333333333,
          8.408333333333333,
          10.418750000000001,
          12.317499999999999,
          12.130625,
          19.5135,
          8.731666666666667,
          18.066666666666666,
          9.3565,
          15.994,
          14.26533333333333
         ],
         "yaxis": "y"
        }
       ],
       "layout": {
        "legend": {
         "tracegroupgap": 0
        },
        "margin": {
         "t": 60
        },
        "template": {
         "data": {
          "bar": [
           {
            "error_x": {
             "color": "#2a3f5f"
            },
            "error_y": {
             "color": "#2a3f5f"
            },
            "marker": {
             "line": {
              "color": "#E5ECF6",
              "width": 0.5
             }
            },
            "type": "bar"
           }
          ],
          "barpolar": [
           {
            "marker": {
             "line": {
              "color": "#E5ECF6",
              "width": 0.5
             }
            },
            "type": "barpolar"
           }
          ],
          "carpet": [
           {
            "aaxis": {
             "endlinecolor": "#2a3f5f",
             "gridcolor": "white",
             "linecolor": "white",
             "minorgridcolor": "white",
             "startlinecolor": "#2a3f5f"
            },
            "baxis": {
             "endlinecolor": "#2a3f5f",
             "gridcolor": "white",
             "linecolor": "white",
             "minorgridcolor": "white",
             "startlinecolor": "#2a3f5f"
            },
            "type": "carpet"
           }
          ],
          "choropleth": [
           {
            "colorbar": {
             "outlinewidth": 0,
             "ticks": ""
            },
            "type": "choropleth"
           }
          ],
          "contour": [
           {
            "colorbar": {
             "outlinewidth": 0,
             "ticks": ""
            },
            "colorscale": [
             [
              0,
              "#0d0887"
             ],
             [
              0.1111111111111111,
              "#46039f"
             ],
             [
              0.2222222222222222,
              "#7201a8"
             ],
             [
              0.3333333333333333,
              "#9c179e"
             ],
             [
              0.4444444444444444,
              "#bd3786"
             ],
             [
              0.5555555555555556,
              "#d8576b"
             ],
             [
              0.6666666666666666,
              "#ed7953"
             ],
             [
              0.7777777777777778,
              "#fb9f3a"
             ],
             [
              0.8888888888888888,
              "#fdca26"
             ],
             [
              1,
              "#f0f921"
             ]
            ],
            "type": "contour"
           }
          ],
          "contourcarpet": [
           {
            "colorbar": {
             "outlinewidth": 0,
             "ticks": ""
            },
            "type": "contourcarpet"
           }
          ],
          "heatmap": [
           {
            "colorbar": {
             "outlinewidth": 0,
             "ticks": ""
            },
            "colorscale": [
             [
              0,
              "#0d0887"
             ],
             [
              0.1111111111111111,
              "#46039f"
             ],
             [
              0.2222222222222222,
              "#7201a8"
             ],
             [
              0.3333333333333333,
              "#9c179e"
             ],
             [
              0.4444444444444444,
              "#bd3786"
             ],
             [
              0.5555555555555556,
              "#d8576b"
             ],
             [
              0.6666666666666666,
              "#ed7953"
             ],
             [
              0.7777777777777778,
              "#fb9f3a"
             ],
             [
              0.8888888888888888,
              "#fdca26"
             ],
             [
              1,
              "#f0f921"
             ]
            ],
            "type": "heatmap"
           }
          ],
          "heatmapgl": [
           {
            "colorbar": {
             "outlinewidth": 0,
             "ticks": ""
            },
            "colorscale": [
             [
              0,
              "#0d0887"
             ],
             [
              0.1111111111111111,
              "#46039f"
             ],
             [
              0.2222222222222222,
              "#7201a8"
             ],
             [
              0.3333333333333333,
              "#9c179e"
             ],
             [
              0.4444444444444444,
              "#bd3786"
             ],
             [
              0.5555555555555556,
              "#d8576b"
             ],
             [
              0.6666666666666666,
              "#ed7953"
             ],
             [
              0.7777777777777778,
              "#fb9f3a"
             ],
             [
              0.8888888888888888,
              "#fdca26"
             ],
             [
              1,
              "#f0f921"
             ]
            ],
            "type": "heatmapgl"
           }
          ],
          "histogram": [
           {
            "marker": {
             "colorbar": {
              "outlinewidth": 0,
              "ticks": ""
             }
            },
            "type": "histogram"
           }
          ],
          "histogram2d": [
           {
            "colorbar": {
             "outlinewidth": 0,
             "ticks": ""
            },
            "colorscale": [
             [
              0,
              "#0d0887"
             ],
             [
              0.1111111111111111,
              "#46039f"
             ],
             [
              0.2222222222222222,
              "#7201a8"
             ],
             [
              0.3333333333333333,
              "#9c179e"
             ],
             [
              0.4444444444444444,
              "#bd3786"
             ],
             [
              0.5555555555555556,
              "#d8576b"
             ],
             [
              0.6666666666666666,
              "#ed7953"
             ],
             [
              0.7777777777777778,
              "#fb9f3a"
             ],
             [
              0.8888888888888888,
              "#fdca26"
             ],
             [
              1,
              "#f0f921"
             ]
            ],
            "type": "histogram2d"
           }
          ],
          "histogram2dcontour": [
           {
            "colorbar": {
             "outlinewidth": 0,
             "ticks": ""
            },
            "colorscale": [
             [
              0,
              "#0d0887"
             ],
             [
              0.1111111111111111,
              "#46039f"
             ],
             [
              0.2222222222222222,
              "#7201a8"
             ],
             [
              0.3333333333333333,
              "#9c179e"
             ],
             [
              0.4444444444444444,
              "#bd3786"
             ],
             [
              0.5555555555555556,
              "#d8576b"
             ],
             [
              0.6666666666666666,
              "#ed7953"
             ],
             [
              0.7777777777777778,
              "#fb9f3a"
             ],
             [
              0.8888888888888888,
              "#fdca26"
             ],
             [
              1,
              "#f0f921"
             ]
            ],
            "type": "histogram2dcontour"
           }
          ],
          "mesh3d": [
           {
            "colorbar": {
             "outlinewidth": 0,
             "ticks": ""
            },
            "type": "mesh3d"
           }
          ],
          "parcoords": [
           {
            "line": {
             "colorbar": {
              "outlinewidth": 0,
              "ticks": ""
             }
            },
            "type": "parcoords"
           }
          ],
          "pie": [
           {
            "automargin": true,
            "type": "pie"
           }
          ],
          "scatter": [
           {
            "marker": {
             "colorbar": {
              "outlinewidth": 0,
              "ticks": ""
             }
            },
            "type": "scatter"
           }
          ],
          "scatter3d": [
           {
            "line": {
             "colorbar": {
              "outlinewidth": 0,
              "ticks": ""
             }
            },
            "marker": {
             "colorbar": {
              "outlinewidth": 0,
              "ticks": ""
             }
            },
            "type": "scatter3d"
           }
          ],
          "scattercarpet": [
           {
            "marker": {
             "colorbar": {
              "outlinewidth": 0,
              "ticks": ""
             }
            },
            "type": "scattercarpet"
           }
          ],
          "scattergeo": [
           {
            "marker": {
             "colorbar": {
              "outlinewidth": 0,
              "ticks": ""
             }
            },
            "type": "scattergeo"
           }
          ],
          "scattergl": [
           {
            "marker": {
             "colorbar": {
              "outlinewidth": 0,
              "ticks": ""
             }
            },
            "type": "scattergl"
           }
          ],
          "scattermapbox": [
           {
            "marker": {
             "colorbar": {
              "outlinewidth": 0,
              "ticks": ""
             }
            },
            "type": "scattermapbox"
           }
          ],
          "scatterpolar": [
           {
            "marker": {
             "colorbar": {
              "outlinewidth": 0,
              "ticks": ""
             }
            },
            "type": "scatterpolar"
           }
          ],
          "scatterpolargl": [
           {
            "marker": {
             "colorbar": {
              "outlinewidth": 0,
              "ticks": ""
             }
            },
            "type": "scatterpolargl"
           }
          ],
          "scatterternary": [
           {
            "marker": {
             "colorbar": {
              "outlinewidth": 0,
              "ticks": ""
             }
            },
            "type": "scatterternary"
           }
          ],
          "surface": [
           {
            "colorbar": {
             "outlinewidth": 0,
             "ticks": ""
            },
            "colorscale": [
             [
              0,
              "#0d0887"
             ],
             [
              0.1111111111111111,
              "#46039f"
             ],
             [
              0.2222222222222222,
              "#7201a8"
             ],
             [
              0.3333333333333333,
              "#9c179e"
             ],
             [
              0.4444444444444444,
              "#bd3786"
             ],
             [
              0.5555555555555556,
              "#d8576b"
             ],
             [
              0.6666666666666666,
              "#ed7953"
             ],
             [
              0.7777777777777778,
              "#fb9f3a"
             ],
             [
              0.8888888888888888,
              "#fdca26"
             ],
             [
              1,
              "#f0f921"
             ]
            ],
            "type": "surface"
           }
          ],
          "table": [
           {
            "cells": {
             "fill": {
              "color": "#EBF0F8"
             },
             "line": {
              "color": "white"
             }
            },
            "header": {
             "fill": {
              "color": "#C8D4E3"
             },
             "line": {
              "color": "white"
             }
            },
            "type": "table"
           }
          ]
         },
         "layout": {
          "annotationdefaults": {
           "arrowcolor": "#2a3f5f",
           "arrowhead": 0,
           "arrowwidth": 1
          },
          "autotypenumbers": "strict",
          "coloraxis": {
           "colorbar": {
            "outlinewidth": 0,
            "ticks": ""
           }
          },
          "colorscale": {
           "diverging": [
            [
             0,
             "#8e0152"
            ],
            [
             0.1,
             "#c51b7d"
            ],
            [
             0.2,
             "#de77ae"
            ],
            [
             0.3,
             "#f1b6da"
            ],
            [
             0.4,
             "#fde0ef"
            ],
            [
             0.5,
             "#f7f7f7"
            ],
            [
             0.6,
             "#e6f5d0"
            ],
            [
             0.7,
             "#b8e186"
            ],
            [
             0.8,
             "#7fbc41"
            ],
            [
             0.9,
             "#4d9221"
            ],
            [
             1,
             "#276419"
            ]
           ],
           "sequential": [
            [
             0,
             "#0d0887"
            ],
            [
             0.1111111111111111,
             "#46039f"
            ],
            [
             0.2222222222222222,
             "#7201a8"
            ],
            [
             0.3333333333333333,
             "#9c179e"
            ],
            [
             0.4444444444444444,
             "#bd3786"
            ],
            [
             0.5555555555555556,
             "#d8576b"
            ],
            [
             0.6666666666666666,
             "#ed7953"
            ],
            [
             0.7777777777777778,
             "#fb9f3a"
            ],
            [
             0.8888888888888888,
             "#fdca26"
            ],
            [
             1,
             "#f0f921"
            ]
           ],
           "sequentialminus": [
            [
             0,
             "#0d0887"
            ],
            [
             0.1111111111111111,
             "#46039f"
            ],
            [
             0.2222222222222222,
             "#7201a8"
            ],
            [
             0.3333333333333333,
             "#9c179e"
            ],
            [
             0.4444444444444444,
             "#bd3786"
            ],
            [
             0.5555555555555556,
             "#d8576b"
            ],
            [
             0.6666666666666666,
             "#ed7953"
            ],
            [
             0.7777777777777778,
             "#fb9f3a"
            ],
            [
             0.8888888888888888,
             "#fdca26"
            ],
            [
             1,
             "#f0f921"
            ]
           ]
          },
          "colorway": [
           "#636efa",
           "#EF553B",
           "#00cc96",
           "#ab63fa",
           "#FFA15A",
           "#19d3f3",
           "#FF6692",
           "#B6E880",
           "#FF97FF",
           "#FECB52"
          ],
          "font": {
           "color": "#2a3f5f"
          },
          "geo": {
           "bgcolor": "white",
           "lakecolor": "white",
           "landcolor": "#E5ECF6",
           "showlakes": true,
           "showland": true,
           "subunitcolor": "white"
          },
          "hoverlabel": {
           "align": "left"
          },
          "hovermode": "closest",
          "mapbox": {
           "style": "light"
          },
          "paper_bgcolor": "white",
          "plot_bgcolor": "#E5ECF6",
          "polar": {
           "angularaxis": {
            "gridcolor": "white",
            "linecolor": "white",
            "ticks": ""
           },
           "bgcolor": "#E5ECF6",
           "radialaxis": {
            "gridcolor": "white",
            "linecolor": "white",
            "ticks": ""
           }
          },
          "scene": {
           "xaxis": {
            "backgroundcolor": "#E5ECF6",
            "gridcolor": "white",
            "gridwidth": 2,
            "linecolor": "white",
            "showbackground": true,
            "ticks": "",
            "zerolinecolor": "white"
           },
           "yaxis": {
            "backgroundcolor": "#E5ECF6",
            "gridcolor": "white",
            "gridwidth": 2,
            "linecolor": "white",
            "showbackground": true,
            "ticks": "",
            "zerolinecolor": "white"
           },
           "zaxis": {
            "backgroundcolor": "#E5ECF6",
            "gridcolor": "white",
            "gridwidth": 2,
            "linecolor": "white",
            "showbackground": true,
            "ticks": "",
            "zerolinecolor": "white"
           }
          },
          "shapedefaults": {
           "line": {
            "color": "#2a3f5f"
           }
          },
          "ternary": {
           "aaxis": {
            "gridcolor": "white",
            "linecolor": "white",
            "ticks": ""
           },
           "baxis": {
            "gridcolor": "white",
            "linecolor": "white",
            "ticks": ""
           },
           "bgcolor": "#E5ECF6",
           "caxis": {
            "gridcolor": "white",
            "linecolor": "white",
            "ticks": ""
           }
          },
          "title": {
           "x": 0.05
          },
          "xaxis": {
           "automargin": true,
           "gridcolor": "white",
           "linecolor": "white",
           "ticks": "",
           "title": {
            "standoff": 15
           },
           "zerolinecolor": "white",
           "zerolinewidth": 2
          },
          "yaxis": {
           "automargin": true,
           "gridcolor": "white",
           "linecolor": "white",
           "ticks": "",
           "title": {
            "standoff": 15
           },
           "zerolinecolor": "white",
           "zerolinewidth": 2
          }
         }
        },
        "xaxis": {
         "anchor": "y",
         "domain": [
          0,
          1
         ],
         "title": {
          "text": "dist"
         }
        },
        "yaxis": {
         "anchor": "x",
         "domain": [
          0,
          1
         ],
         "title": {
          "text": "value"
         }
        }
       }
      }
     },
     "metadata": {},
     "output_type": "display_data"
    }
   ],
   "source": [
    "fig = px.line(result_df, x='dist', y=\"value\", text=\"count\")\n",
    "fig.update_traces(textposition=\"top right\")\n",
    "fig.show()"
   ]
  }
 ],
 "metadata": {
  "kernelspec": {
   "display_name": "mlcourse_ai",
   "language": "python",
   "name": "mlcourse_ai"
  },
  "language_info": {
   "codemirror_mode": {
    "name": "ipython",
    "version": 3
   },
   "file_extension": ".py",
   "mimetype": "text/x-python",
   "name": "python",
   "nbconvert_exporter": "python",
   "pygments_lexer": "ipython3",
   "version": "3.8.5"
  },
  "orig_nbformat": 4,
  "vscode": {
   "interpreter": {
    "hash": "a35b3f9fa800a7c1cc7a60010d51f811088ebe47d6d529d19a8a99a2b797f062"
   }
  }
 },
 "nbformat": 4,
 "nbformat_minor": 2
}
